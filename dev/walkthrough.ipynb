{
 "cells": [
  {
   "cell_type": "code",
   "execution_count": 1,
   "metadata": {},
   "outputs": [
    {
     "name": "stdout",
     "output_type": "stream",
     "text": [
      "API_URL: http://localhost:8000\n",
      "PINECONE_INDEX: simonas-serverless-384\n",
      "PINECONE_HOST: https://simonas-serverless-1536-75c816a.svc.apw5-4e34-81fa.pinecone.io\n"
     ]
    }
   ],
   "source": [
    "import os\n",
    "import requests\n",
    "import json\n",
    "from dotenv import load_dotenv\n",
    "load_dotenv()\n",
    "\n",
    "API_URL = os.environ.get('API_BASE_URL', 'http://localhost:8000')\n",
    "PINECONE_API_KEY = os.environ.get('PINECONE_API_KEY', '')\n",
    "PINECONE_INDEX = os.environ.get('PINECONE_INDEX', '')\n",
    "PINECONE_HOST = os.environ.get('PINECONE_HOST', '')\n",
    "\n",
    "print(\"API_URL:\", API_URL)\n",
    "# print(\"PINECONE_API_KEY:\", PINECONE_API_KEY)\n",
    "print(\"PINECONE_INDEX:\", PINECONE_INDEX)\n",
    "print(\"PINECONE_HOST:\", PINECONE_HOST)"
   ]
  },
  {
   "cell_type": "code",
   "execution_count": 2,
   "metadata": {},
   "outputs": [
    {
     "name": "stdout",
     "output_type": "stream",
     "text": [
      "{'success': True, 'index_name': 'simonas-serverless-384'}\n"
     ]
    }
   ],
   "source": [
    "# Ingest a file\n",
    "url = f\"{API_URL}/api/v1/ingest\"\n",
    "\n",
    "payload = {\n",
    "    \"files\": [\n",
    "        {\n",
    "            \"name\": \"chunking\",\n",
    "            \"url\": \"https://arxiv.org/pdf/2402.05131.pdf\"\n",
    "        }\n",
    "    ],\n",
    "    \"vector_database\": {\n",
    "        \"type\": \"pinecone\",\n",
    "        \"config\": {\n",
    "            \"api_key\": PINECONE_API_KEY,\n",
    "            \"host\": PINECONE_HOST,\n",
    "        }\n",
    "    },\n",
    "    \"index_name\": PINECONE_INDEX,\n",
    "}\n",
    "\n",
    "response = requests.post(url, json=payload)\n",
    "\n",
    "print(response.json())"
   ]
  },
  {
   "cell_type": "code",
   "execution_count": 16,
   "metadata": {},
   "outputs": [
    {
     "name": "stdout",
     "output_type": "stream",
     "text": [
      "{'success': True, 'index_name': 'simonas-serverless-384'}\n"
     ]
    }
   ],
   "source": [
    "# Ingest a file\n",
    "url = f\"{API_URL}/api/v1/ingest\"\n",
    "\n",
    "payload = {\n",
    "    \"files\": [\n",
    "        {\n",
    "            \"name\": \"csv_chunking\",\n",
    "            \"url\": \"https://raw.githubusercontent.com/datasciencedojo/datasets/master/titanic.csv\"\n",
    "        }\n",
    "    ],\n",
    "    \"vector_database\": {\n",
    "        \"type\": \"pinecone\",\n",
    "        \"config\": {\n",
    "            \"api_key\": PINECONE_API_KEY,\n",
    "            \"host\": PINECONE_HOST,\n",
    "        }\n",
    "    },\n",
    "    \"index_name\": PINECONE_INDEX,\n",
    "}\n",
    "\n",
    "response = requests.post(url, json=payload)\n",
    "\n",
    "print(response.json())"
   ]
  },
  {
   "cell_type": "code",
   "execution_count": 3,
   "metadata": {},
   "outputs": [
    {
     "name": "stdout",
     "output_type": "stream",
     "text": [
      "{\n",
      "    \"success\": true,\n",
      "    \"data\": []\n",
      "}\n"
     ]
    }
   ],
   "source": [
    "# Query the index\n",
    "query_url = f\"{API_URL}/api/v1/query\"\n",
    "\n",
    "query_payload = {\n",
    "    \"input\": \"What are the chunking strategies?\",\n",
    "    \"vector_database\": {\n",
    "        \"type\": \"pinecone\",\n",
    "        \"config\": {\n",
    "            \"api_key\": PINECONE_API_KEY,\n",
    "            \"host\": PINECONE_HOST,\n",
    "        }\n",
    "    },\n",
    "    \"index_name\": PINECONE_INDEX,\n",
    "}\n",
    "\n",
    "query_response = requests.post(query_url, json=query_payload)\n",
    "\n",
    "# NOTE: Filter out fields before given to LLM\n",
    "# Include title, content, source, page_number, chunk_index\n",
    "formatted_json = json.dumps(query_response.json(), indent=4)\n",
    "print(formatted_json)"
   ]
  },
  {
   "cell_type": "code",
   "execution_count": 6,
   "metadata": {},
   "outputs": [
    {
     "name": "stdout",
     "output_type": "stream",
     "text": [
      "{'success': True, 'data': {'num_of_deleted_chunks': 59}}\n"
     ]
    }
   ],
   "source": [
    "# Delete the index\n",
    "query_url = f\"{API_URL}/api/v1/delete\"\n",
    "\n",
    "delete_payload = {\n",
    "        \"files\": [\n",
    "        {\n",
    "            \"url\": \"https://arxiv.org/pdf/2402.05131.pdf\"\n",
    "        }\n",
    "    ],\n",
    "    \"index_name\": PINECONE_INDEX,\n",
    "    \"vector_database\": {\n",
    "        \"type\": \"pinecone\",\n",
    "        \"config\": {\n",
    "            \"api_key\": PINECONE_API_KEY,\n",
    "            \"host\": PINECONE_HOST,\n",
    "        }\n",
    "    },\n",
    "}\n",
    "\n",
    "delete_response = requests.delete(query_url, json=delete_payload)\n",
    "\n",
    "print(delete_response.json())"
   ]
  },
  {
   "cell_type": "code",
   "execution_count": null,
   "metadata": {},
   "outputs": [],
   "source": [
    "# Ingest a file\n",
    "url = f\"{API_URL}/api/v1/ingest\"\n",
    "\n",
    "payload = {\n",
    "    \"files\": [\n",
    "        {\n",
    "            \"type\": \"PDF\",\n",
    "            \"url\": \"https://arxiv.org/pdf/2402.05131.pdf\"\n",
    "        }\n",
    "    ],\n",
    "    \"vector_database\": {\n",
    "        \"type\": \"weaviate\",\n",
    "        \"config\": {\n",
    "            \"api_key\": \"9eXH8oNR0uqN3GvvzAgaUD11ltPnGqZG2RFQ\",\n",
    "            \"host\": \"https://superagent-ragas-1575sjfq.weaviate.network\"\n",
    "        }\n",
    "    },\n",
    "    \"index_name\": \"homanp11\",\n",
    "    \"webhook_url\": \"https://webhook.site/0e217d1c-49f1-424a-9992-497db09f7793\"\n",
    "}\n",
    "\n",
    "response = requests.post(url, json=payload)\n",
    "\n",
    "print(response.json())"
   ]
  },
  {
   "cell_type": "code",
   "execution_count": null,
   "metadata": {},
   "outputs": [],
   "source": [
    "# Query the index\n",
    "query_url = f\"{API_URL}/api/v1/query\"\n",
    "\n",
    "query_payload = {\n",
    "    \"input\": \"What are the chunking strategies?\",\n",
    "    \"vector_database\": {\n",
    "        \"type\": \"weaviate\",\n",
    "        \"config\": {\n",
    "            \"api_key\": \"9eXH8oNR0uqN3GvvzAgaUD11ltPnGqZG2RFQ\",\n",
    "            \"host\": \"https://superagent-ragas-1575sjfq.weaviate.network\"\n",
    "        }\n",
    "    },\n",
    "    \"index_name\": \"homanp11\",\n",
    "    \"encoder\": \"cohere\",\n",
    "}\n",
    "\n",
    "query_response = requests.post(query_url, json=query_payload)\n",
    "\n",
    "print(query_response.json())"
   ]
  },
  {
   "cell_type": "code",
   "execution_count": null,
   "metadata": {},
   "outputs": [],
   "source": [
    "data = query_response.json().get('data', [])\n",
    "data"
   ]
  },
  {
   "cell_type": "code",
   "execution_count": null,
   "metadata": {},
   "outputs": [],
   "source": [
    "data = query_response.json().get('data', [])\n",
    "data"
   ]
  },
  {
   "cell_type": "code",
   "execution_count": null,
   "metadata": {},
   "outputs": [],
   "source": [
    "# Delete the index\n",
    "query_url = f\"{API_URL}/api/v1/delete\"\n",
    "\n",
    "delete_payload = {\n",
    "    \"file_url\": \"https://arxiv.org/pdf/2402.05131.pdf\",\n",
    "    \"vector_database\": {\n",
    "        \"type\": \"weaviate\",\n",
    "        \"config\": {\n",
    "            \"api_key\": \"9eXH8oNR0uqN3GvvzAgaUD11ltPnGqZG2RFQ\",\n",
    "            \"host\": \"https://superagent-ragas-1575sjfq.weaviate.network\"\n",
    "        }\n",
    "    },\n",
    "    \"index_name\": \"homanp11\",\n",
    "    \"encoder\": \"cohere\"\n",
    "}\n",
    "\n",
    "delete_response = requests.delete(query_url, json=delete_payload)\n",
    "\n",
    "print(delete_response.json())"
   ]
  }
 ],
 "metadata": {
  "kernelspec": {
   "display_name": ".venv",
   "language": "python",
   "name": "python3"
  },
  "language_info": {
   "codemirror_mode": {
    "name": "ipython",
    "version": 3
   },
   "file_extension": ".py",
   "mimetype": "text/x-python",
   "name": "python",
   "nbconvert_exporter": "python",
   "pygments_lexer": "ipython3",
   "version": "3.11.3"
  }
 },
 "nbformat": 4,
 "nbformat_minor": 2
}
