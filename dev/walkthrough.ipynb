{
 "cells": [
  {
   "cell_type": "code",
   "execution_count": null,
   "metadata": {},
   "outputs": [],
   "source": [
    "import os\n",
    "import requests\n",
    "from dotenv import load_dotenv\n",
    "load_dotenv()\n",
    "\n",
    "API_URL = os.environ.get('API_BASE_URL', 'http://localhost:8000')\n",
    "PINECONE_API_KEY = os.environ.get('PINECONE_API_KEY', '')\n",
    "PINECONE_INDEX = os.environ.get('PINECONE_INDEX', '')\n",
    "PINECONE_HOST = os.environ.get('PINECONE_HOST', '')\n",
    "\n",
    "print(\"API_URL:\", API_URL)\n",
    "print(\"PINECONE_API_KEY:\", PINECONE_API_KEY)\n",
    "print(\"PINECONE_INDEX:\", PINECONE_INDEX)\n",
    "print(\"PINECONE_HOST:\", PINECONE_HOST)"
   ]
  },
  {
   "cell_type": "code",
   "execution_count": null,
   "metadata": {},
   "outputs": [],
   "source": [
    "# Ingest a file\n",
    "url = f\"{API_URL}/api/v1/ingest\"\n",
    "\n",
    "payload = {\n",
    "    \"files\": [\n",
    "        {\n",
    "            \"type\": \"PDF\",\n",
    "            \"url\": \"https://arxiv.org/pdf/2402.05131.pdf\"\n",
    "        }\n",
    "    ],\n",
    "    \"vector_database\": {\n",
    "        \"type\": \"pinecone\",\n",
    "        \"config\": {\n",
    "            \"api_key\": PINECONE_API_KEY,\n",
    "            \"host\": PINECONE_HOST,\n",
    "        }\n",
    "    },\n",
    "    \"index_name\": PINECONE_INDEX,\n",
    "    \"encoder\": \"cohere\",\n",
    "}\n",
    "\n",
    "response = requests.post(url, json=payload)\n",
    "\n",
    "print(response.json())"
   ]
  },
  {
   "cell_type": "code",
   "execution_count": null,
   "metadata": {},
   "outputs": [],
   "source": [
    "# Ingest a file\n",
    "url = f\"{API_URL}/api/v1/ingest\"\n",
    "\n",
    "payload = {\n",
    "    \"files\": [\n",
    "        {\n",
    "            \"type\": \"PDF\",\n",
    "            \"url\": \"https://arxiv.org/pdf/2402.05131.pdf\"\n",
    "        }\n",
    "    ],\n",
    "    \"vector_database\": {\n",
    "        \"type\": \"weaviate\",\n",
    "        \"config\": {\n",
    "            \"api_key\": \"9eXH8oNR0uqN3GvvzAgaUD11ltPnGqZG2RFQ\",\n",
    "            \"host\": \"https://superagent-ragas-1575sjfq.weaviate.network\"\n",
    "        }\n",
    "    },\n",
    "    \"index_name\": \"homanp11\",\n",
    "    \"encoder\": \"cohere\",\n",
    "    \"webhook_url\": \"https://webhook.site/0e217d1c-49f1-424a-9992-497db09f7793\"\n",
    "}\n",
    "\n",
    "response = requests.post(url, json=payload)\n",
    "\n",
    "print(response.json())"
   ]
  },
  {
   "cell_type": "code",
   "execution_count": null,
   "metadata": {},
   "outputs": [],
   "source": [
    "# Query the index\n",
    "query_url = f\"{API_URL}/api/v1/query\"\n",
    "\n",
    "query_payload = {\n",
    "    \"input\": \"What are the chunking strategies?\",\n",
    "    \"vector_database\": {\n",
    "        \"type\": \"pinecone\",\n",
    "        \"config\": {\n",
    "            \"api_key\": PINECONE_API_KEY,\n",
    "            \"host\": PINECONE_HOST,\n",
    "        }\n",
    "    },\n",
    "    \"index_name\": PINECONE_INDEX,\n",
    "    \"encoder\": \"cohere\",\n",
    "}\n",
    "\n",
    "query_response = requests.post(query_url, json=query_payload)\n",
    "\n",
    "print(query_response.json())"
   ]
  },
  {
   "cell_type": "code",
   "execution_count": null,
   "metadata": {},
   "outputs": [],
   "source": [
    "# Query the index\n",
    "query_url = f\"{API_URL}/api/v1/query\"\n",
    "\n",
    "query_payload = {\n",
    "    \"input\": \"What are the chunking strategies?\",\n",
    "    \"vector_database\": {\n",
    "        \"type\": \"weaviate\",\n",
    "        \"config\": {\n",
    "            \"api_key\": \"9eXH8oNR0uqN3GvvzAgaUD11ltPnGqZG2RFQ\",\n",
    "            \"host\": \"https://superagent-ragas-1575sjfq.weaviate.network\"\n",
    "        }\n",
    "    },\n",
    "    \"index_name\": \"homanp11\",\n",
    "    \"encoder\": \"cohere\",\n",
    "}\n",
    "\n",
    "query_response = requests.post(query_url, json=query_payload)\n",
    "\n",
    "print(query_response.json())"
   ]
  },
  {
   "cell_type": "code",
   "execution_count": null,
   "metadata": {},
   "outputs": [],
   "source": [
    "data = query_response.json().get('data', [])\n",
    "data"
   ]
  },
  {
   "cell_type": "code",
   "execution_count": null,
   "metadata": {},
   "outputs": [],
   "source": [
    "data = query_response.json().get('data', [])\n",
    "data"
   ]
  },
  {
   "cell_type": "code",
   "execution_count": null,
   "metadata": {},
   "outputs": [],
   "source": [
    "# Delete the index\n",
    "query_url = f\"{API_URL}/api/v1/delete\"\n",
    "\n",
    "delete_payload = {\n",
    "    \"file_url\": \"https://arxiv.org/pdf/2210.03629.pdf\",\n",
    "    \"vector_database\": {\n",
    "        \"type\": \"pinecone\",\n",
    "        \"config\": {\n",
    "            \"api_key\": PINECONE_API_KEY,\n",
    "            \"host\": PINECONE_HOST,\n",
    "        }\n",
    "    },\n",
    "    \"index_name\": PINECONE_INDEX,\n",
    "    \"encoder\": \"cohere\",\n",
    "}\n",
    "\n",
    "delete_response = requests.delete(query_url, json=delete_payload)\n",
    "\n",
    "print(delete_response.json())"
   ]
  },
  {
   "cell_type": "code",
   "execution_count": null,
   "metadata": {},
   "outputs": [],
   "source": [
    "# Delete the index\n",
    "query_url = f\"{API_URL}/api/v1/delete\"\n",
    "\n",
    "delete_payload = {\n",
    "    \"file_url\": \"https://arxiv.org/pdf/2402.05131.pdf\",\n",
    "    \"vector_database\": {\n",
    "        \"type\": \"weaviate\",\n",
    "        \"config\": {\n",
    "            \"api_key\": \"9eXH8oNR0uqN3GvvzAgaUD11ltPnGqZG2RFQ\",\n",
    "            \"host\": \"https://superagent-ragas-1575sjfq.weaviate.network\"\n",
    "        }\n",
    "    },\n",
    "    \"index_name\": \"homanp11\",\n",
    "    \"encoder\": \"cohere\"\n",
    "}\n",
    "\n",
    "delete_response = requests.delete(query_url, json=delete_payload)\n",
    "\n",
    "print(delete_response.json())"
   ]
  }
 ],
 "metadata": {
  "kernelspec": {
   "display_name": ".venv",
   "language": "python",
   "name": "python3"
  },
  "language_info": {
   "codemirror_mode": {
    "name": "ipython",
    "version": 3
   },
   "file_extension": ".py",
   "mimetype": "text/x-python",
   "name": "python",
   "nbconvert_exporter": "python",
   "pygments_lexer": "ipython3",
   "version": "3.11.3"
  }
 },
 "nbformat": 4,
 "nbformat_minor": 2
}
