{
 "cells": [
  {
   "cell_type": "code",
   "execution_count": null,
   "metadata": {},
   "outputs": [],
   "source": [
    "import os\n",
    "from models.file import File, FileType\n",
    "from service.embedding import EmbeddingService\n",
    "from termcolor import colored\n",
    "\n",
    "PINECONE_INDEX = os.getenv(\"PINECONE_INDEX\", \"\")\n",
    "PINECONE_API_KEY = os.getenv(\"PINECONE_API_KEY\", \"\")\n",
    "PINECONE_HOST = os.getenv(\"PINECONE_HOST\", \"\")\n",
    "\n",
    "file = File(\n",
    "    type=FileType.pdf,\n",
    "    url=\"https://arxiv.org/pdf/2210.03629.pdf\"\n",
    ")\n",
    "vector_credentials = {\n",
    "        \"type\": \"pinecone\",\n",
    "        \"config\": {\n",
    "            \"api_key\": PINECONE_API_KEY,\n",
    "            \"host\": PINECONE_HOST,\n",
    "        }\n",
    "    },\n",
    "\n",
    "embedding_service = EmbeddingService(\n",
    "        files=[file],\n",
    "        index_name=PINECONE_INDEX,\n",
    "        vector_credentials=vector_credentials\n",
    "    )"
   ]
  },
  {
   "cell_type": "code",
   "execution_count": null,
   "metadata": {},
   "outputs": [],
   "source": [
    "elements = await embedding_service._partition_file(file, strategy=\"auto\")\n"
   ]
  },
  {
   "cell_type": "code",
   "execution_count": null,
   "metadata": {},
   "outputs": [],
   "source": [
    "for element in elements:\n",
    "    print(type(element))\n",
    "    # print(f\"Text: {element.text}\")\n"
   ]
  },
  {
   "cell_type": "code",
   "execution_count": null,
   "metadata": {},
   "outputs": [],
   "source": [
    "docs = await embedding_service.generate_chunks(strategy=\"auto\")"
   ]
  },
  {
   "cell_type": "code",
   "execution_count": null,
   "metadata": {},
   "outputs": [],
   "source": [
    "texts = [doc.content for doc in docs]"
   ]
  },
  {
   "cell_type": "code",
   "execution_count": null,
   "metadata": {},
   "outputs": [],
   "source": [
    "colors = ['red', 'green', 'yellow', 'blue', 'magenta', 'cyan', 'white']\n",
    "\n",
    "concatenated_document = \"\"\n",
    "\n",
    "for i, chunk in enumerate(texts):\n",
    "    color = colors[i % len(colors)]\n",
    "    colored_text = colored(chunk, color)\n",
    "    print(colored_text)\n",
    "    concatenated_document += chunk + \" \"\n",
    "\n",
    "# print(\"\\nConcatenated Document:\\n\", concatenated_document)"
   ]
  },
  {
   "cell_type": "code",
   "execution_count": null,
   "metadata": {},
   "outputs": [],
   "source": []
  }
 ],
 "metadata": {
  "kernelspec": {
   "display_name": ".venv",
   "language": "python",
   "name": "python3"
  },
  "language_info": {
   "codemirror_mode": {
    "name": "ipython",
    "version": 3
   },
   "file_extension": ".py",
   "mimetype": "text/x-python",
   "name": "python",
   "nbconvert_exporter": "python",
   "pygments_lexer": "ipython3",
   "version": "3.11.3"
  }
 },
 "nbformat": 4,
 "nbformat_minor": 2
}
